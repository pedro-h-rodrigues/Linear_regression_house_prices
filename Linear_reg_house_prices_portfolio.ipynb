{
 "cells": [
  {
   "cell_type": "markdown",
   "metadata": {},
   "source": [
    "## 1. Introdução e objetivo do projeto\n",
    "\n",
    "* O objetivo desse projeto é criar um modelo de machine learning utilizando o método de regressão linear para estimar o preço de imóveis com base em suas características. A eficácia do modelo será medida com base na raiz do erro quadrado médio (root mean squared error). \n",
    "\n",
    "* O Dataset usado para treinar e testar o modelo é composto por dados de 2930 imóveis vendidos na cidade de Ames, no estado de Iowa nos EUA entre 2006 e 2010. Para cada imóvel existem 82 colunas, cuja descrição pode ser lida neste endereço https://s3.amazonaws.com/dq-content/307/data_description.txt\n",
    "\n",
    "\n",
    "* Esse projeto foi desenvolvido por mim como parte do curso de \"Machine Learning Introduction\" do Dataquest, um site americano que oferece cursos pagos de ciência de dados. O Dataquest oferece projetos guiados ao término de cada módulo, onde os alunos aplicam os conceitos aprendidos no módulo. Nos projetos guiados são utilizados datasets reais e os alunos recebem instruções gerais de como resolver o problema proposto. O site oferece a \"solução\" para cada projeto guiado, que pode ser encontrada no seguinte link https://github.com/dataquestio/solutions/blob/master/Mission240Solutions.ipynb Como estou iniciando em data-science, obviamente tive que recorrer à solução disponibilizada pelo site, no entanto, escrevi meu próprio código e em várias etapas melhorei o código em relação à solução apresentada.\n"
   ]
  },
  {
   "cell_type": "markdown",
   "metadata": {},
   "source": [
    "## 2. Importando as bibliotecas e lendo o dataset"
   ]
  },
  {
   "cell_type": "code",
   "execution_count": 28,
   "metadata": {},
   "outputs": [],
   "source": [
    "import numpy as np\n",
    "import pandas as pd\n",
    "from sklearn.linear_model import LinearRegression\n",
    "from sklearn.metrics import mean_squared_error\n",
    "import matplotlib.pyplot as plt\n",
    "import seaborn as sns\n",
    "from sklearn.model_selection import KFold, cross_val_score"
   ]
  },
  {
   "cell_type": "code",
   "execution_count": 31,
   "metadata": {
    "collapsed": false,
    "jupyter": {
     "outputs_hidden": false
    }
   },
   "outputs": [
    {
     "data": {
      "text/plain": [
       "(2930, 82)"
      ]
     },
     "execution_count": 31,
     "metadata": {},
     "output_type": "execute_result"
    }
   ],
   "source": [
    "data = pd.read_csv(\"AmesHousing.tsv\", sep = '\\t')\n",
    "data.shape"
   ]
  },
  {
   "cell_type": "markdown",
   "metadata": {},
   "source": [
    "## 3. Criando as funções principais"
   ]
  },
  {
   "cell_type": "code",
   "execution_count": 3,
   "metadata": {
    "collapsed": false,
    "jupyter": {
     "outputs_hidden": false
    }
   },
   "outputs": [],
   "source": [
    "def data_cleaning(df):\n",
    "    df = df.sample(frac = 1, random_state = 1)\n",
    "    return df"
   ]
  },
  {
   "cell_type": "code",
   "execution_count": 4,
   "metadata": {},
   "outputs": [],
   "source": [
    "def select_features(df):\n",
    "    features = df[['Gr Liv Area','SalePrice']]\n",
    "    return features"
   ]
  },
  {
   "cell_type": "code",
   "execution_count": 5,
   "metadata": {},
   "outputs": [],
   "source": [
    "def train_and_test(df):\n",
    "           \n",
    "    len_dataset = df.shape[0]\n",
    "    \n",
    "    train_df = df[:int(len_dataset/2)].copy()\n",
    "    test_df = df[int(len_dataset/2):].copy()\n",
    "       \n",
    "    train_features = train_df.drop(columns = 'SalePrice')\n",
    "    \n",
    "    test_features = test_df.drop(columns = 'SalePrice')\n",
    "    \n",
    "    model = LinearRegression()\n",
    "    model.fit(train_features,train_df[['SalePrice']])\n",
    "\n",
    "    prediction = model.predict(test_features)\n",
    "    \n",
    "    test_rmse = np.sqrt(mean_squared_error(prediction, test_df[['SalePrice']]))\n",
    "    \n",
    "    return test_rmse\n",
    "    "
   ]
  },
  {
   "cell_type": "code",
   "execution_count": 6,
   "metadata": {},
   "outputs": [
    {
     "data": {
      "text/plain": [
       "55909.94864613729"
      ]
     },
     "execution_count": 6,
     "metadata": {},
     "output_type": "execute_result"
    }
   ],
   "source": [
    "data = pd.read_csv(\"AmesHousing.tsv\", sep = '\\t')\n",
    "clean_data = data_cleaning(data)\n",
    "selected_data = select_features(clean_data)\n",
    "rmse = train_and_test(selected_data)\n",
    "rmse"
   ]
  },
  {
   "cell_type": "markdown",
   "metadata": {},
   "source": [
    "## 4. Data Cleaning\n",
    "\n",
    "**4.1. Testando as etapas de data cleaning antes de incorporá-la na função**"
   ]
  },
  {
   "cell_type": "code",
   "execution_count": 7,
   "metadata": {},
   "outputs": [
    {
     "data": {
      "text/plain": [
       "82"
      ]
     },
     "execution_count": 7,
     "metadata": {},
     "output_type": "execute_result"
    }
   ],
   "source": [
    "data.shape[1]"
   ]
  },
  {
   "cell_type": "code",
   "execution_count": 8,
   "metadata": {},
   "outputs": [
    {
     "data": {
      "text/plain": [
       "71"
      ]
     },
     "execution_count": 8,
     "metadata": {},
     "output_type": "execute_result"
    }
   ],
   "source": [
    "#1. Excluindo colunas numéricas com mais de 5% de volores em branco\n",
    "missing_count = data.isnull().sum()\n",
    "missing_cols = missing_count[missing_count>data.shape[0]*0.05].index\n",
    "data.drop(columns = missing_cols, inplace = True)\n",
    "\n",
    "data.shape[1]"
   ]
  },
  {
   "cell_type": "code",
   "execution_count": 9,
   "metadata": {},
   "outputs": [
    {
     "data": {
      "text/plain": [
       "64"
      ]
     },
     "execution_count": 9,
     "metadata": {},
     "output_type": "execute_result"
    }
   ],
   "source": [
    "#2. Excluindo colunas de texto com mais de 1 volor em branco\n",
    "text_data = data.select_dtypes(include=['object'])\n",
    "text_data_missing = text_data.isnull().sum()\n",
    "missing_cols = text_data_missing[text_data_missing > 0].index\n",
    "data.drop(columns = missing_cols, inplace = True)\n",
    "data.shape[1]"
   ]
  },
  {
   "cell_type": "code",
   "execution_count": 10,
   "metadata": {},
   "outputs": [],
   "source": [
    "#3. Preenchendo as colunas numéricas com a média da coluna\n",
    "numeric_data = data.select_dtypes(include = ['int64','float64'])\n",
    "numeric_data_missing = numeric_data.isnull().sum()\n",
    "missing_cols = numeric_data_missing[(numeric_data_missing > 0)]\n",
    "\n",
    "media_col = data[missing_cols.index].mean() \n",
    "media_col = media_col.to_dict()\n",
    "data.fillna(value = media_col, inplace = True)"
   ]
  },
  {
   "cell_type": "code",
   "execution_count": 11,
   "metadata": {},
   "outputs": [],
   "source": [
    "#4. Incluindo colunas com novas informações relevantes para o modelo\n",
    "data['Years Before Sale'] = data['Yr Sold'] - data['Year Built']\n",
    "data['Years Since Remod'] = data['Yr Sold'] - data['Year Remod/Add']\n",
    "\n",
    "#Excluindo as colunas que resultariam em valores negativos\n",
    "negative_yrs_bef_sale = data['Years Before Sale'][data['Years Before Sale'] <0].index\n",
    "negative_yrs_since_remod = data['Years Since Remod'][data['Years Since Remod'] <0].index\n",
    "data.drop(index = negative_yrs_bef_sale.union(negative_yrs_since_remod),inplace = True)\n",
    "\n",
    "#Excluindo as colunas que deram origem às novas\n",
    "data.drop(columns = ['Year Built','Year Remod/Add'],inplace = True) "
   ]
  },
  {
   "cell_type": "code",
   "execution_count": 12,
   "metadata": {},
   "outputs": [],
   "source": [
    "#5. Excluindo colunas que não são uteis para o modelo\n",
    "## Colunas de índice\n",
    "data.drop(columns = [\"PID\", \"Order\"], inplace = True)\n",
    "\n",
    "## Colunas que só foram geradas depois da venda, e que por isso não faz sentido incluí-las na previsão\n",
    "data.drop(columns = [\"Mo Sold\", \"Sale Condition\", \"Sale Type\", \"Yr Sold\"], inplace = True)"
   ]
  },
  {
   "cell_type": "markdown",
   "metadata": {},
   "source": [
    "**4.2. Incorporando as etapas de limpeza dos dados na função data_cleaning**"
   ]
  },
  {
   "cell_type": "code",
   "execution_count": 13,
   "metadata": {},
   "outputs": [],
   "source": [
    "def data_cleaning(data):\n",
    "  \n",
    "    data = data.sample(frac = 1, random_state = 1)\n",
    "    \n",
    "    #data_cleaning:\n",
    "    #1. Excluindo colunas numéricas com mais de 5% de volores em branco\n",
    "    missing_count = data.isnull().sum()\n",
    "    missing_cols = missing_count[missing_count>data.shape[0]*0.05].index\n",
    "    data.drop(columns = missing_cols, inplace = True)\n",
    "    \n",
    "    #2. Excluindo colunas de texto com mais de 1 volor em branco\n",
    "    text_data = data.select_dtypes(include=['object'])\n",
    "    text_data_missing = text_data.isnull().sum()\n",
    "    missing_cols = text_data_missing[text_data_missing > 0].index\n",
    "    data.drop(columns = missing_cols, inplace = True)\n",
    "    \n",
    "    #3. Preenchendo as colunas numéricas com a média da coluna\n",
    "    numeric_data = data.select_dtypes(include = ['int64','float64'])\n",
    "    numeric_data_missing = numeric_data.isnull().sum()\n",
    "    missing_cols = numeric_data_missing[(numeric_data_missing > 0)]\n",
    "    media_col = data[missing_cols.index].mean() \n",
    "    media_col = media_col.to_dict()\n",
    "    data.fillna(value = media_col, inplace = True)\n",
    "    \n",
    "    #4. Incluindo colunas com novas informações relevantes para o modelo\n",
    "    data['Years Before Sale'] = data['Yr Sold'] - data['Year Built']\n",
    "    data['Years Since Remod'] = data['Yr Sold'] - data['Year Remod/Add']\n",
    "    \n",
    "     #Excluindo as colunas que resultariam em valores negativos\n",
    "    negative_yrs_bef_sale = data['Years Before Sale'][data['Years Before Sale'] <0].index\n",
    "    negative_yrs_since_remod = data['Years Since Remod'][data['Years Since Remod'] <0].index\n",
    "    data.drop(index = negative_yrs_bef_sale.union(negative_yrs_since_remod),inplace = True)\n",
    "\n",
    "     #Excluindo as colunas que deram origem às novas\n",
    "    data.drop(columns = ['Year Built','Year Remod/Add'],inplace = True) \n",
    "    \n",
    "    #5. Excluindo colunas que não são uteis para o modelo\n",
    "    ## Colunas de índice\n",
    "    data.drop(columns = [\"PID\", \"Order\"], inplace = True)\n",
    "\n",
    "    ## Colunas que só foram geradas depois da venda, e que por isso não faz sentido incluí-las na previsão\n",
    "    data.drop(columns = [\"Mo Sold\", \"Sale Condition\", \"Sale Type\", \"Yr Sold\"], inplace = True)\n",
    "\n",
    "    return data"
   ]
  },
  {
   "cell_type": "code",
   "execution_count": 14,
   "metadata": {},
   "outputs": [
    {
     "data": {
      "text/plain": [
       "54949.40915594242"
      ]
     },
     "execution_count": 14,
     "metadata": {},
     "output_type": "execute_result"
    }
   ],
   "source": [
    "data = pd.read_csv(\"AmesHousing.tsv\", sep = '\\t')\n",
    "clean_data = data_cleaning(data)\n",
    "selected_data = select_features(clean_data)\n",
    "rmse = train_and_test(selected_data)\n",
    "rmse"
   ]
  },
  {
   "cell_type": "markdown",
   "metadata": {},
   "source": [
    "## 5. Escolha das features\n",
    "**5.1. Testando as features antes de incorporá-las na função 'feature selection'**\n",
    "\n",
    "**5.1.1. Análise das features numéricas**"
   ]
  },
  {
   "cell_type": "code",
   "execution_count": 15,
   "metadata": {},
   "outputs": [
    {
     "data": {
      "text/plain": [
       "SalePrice            1.000000\n",
       "Overall Qual         0.801206\n",
       "Gr Liv Area          0.717596\n",
       "Garage Cars          0.648411\n",
       "Total Bsmt SF        0.643601\n",
       "Garage Area          0.641675\n",
       "1st Flr SF           0.635185\n",
       "Years Before Sale    0.558979\n",
       "Full Bath            0.546118\n",
       "Years Since Remod    0.534985\n",
       "Mas Vnr Area         0.510611\n",
       "TotRms AbvGrd        0.498574\n",
       "Fireplaces           0.474831\n",
       "BsmtFin SF 1         0.438928\n",
       "Wood Deck SF         0.328183\n",
       "Open Porch SF        0.316262\n",
       "Half Bath            0.284871\n",
       "Bsmt Full Bath       0.276329\n",
       "2nd Flr SF           0.269601\n",
       "Lot Area             0.267520\n",
       "Bsmt Unf SF          0.182248\n",
       "Bedroom AbvGr        0.143916\n",
       "Enclosed Porch       0.128685\n",
       "Kitchen AbvGr        0.119760\n",
       "Screen Porch         0.112280\n",
       "Overall Cond         0.101540\n",
       "MS SubClass          0.085128\n",
       "Pool Area            0.068438\n",
       "Low Qual Fin SF      0.037629\n",
       "Bsmt Half Bath       0.035874\n",
       "3Ssn Porch           0.032268\n",
       "Misc Val             0.019273\n",
       "BsmtFin SF 2         0.006000\n",
       "Name: SalePrice, dtype: float64"
      ]
     },
     "execution_count": 15,
     "metadata": {},
     "output_type": "execute_result"
    }
   ],
   "source": [
    "'''Calculando a correlação entre as features a a nossa coluna alvo 'SalePrice'\n",
    "   Como estamos usando um modelo de regressão linear, devemos buscar features que possuam\n",
    "   alguma correlação (positiva ou negativa) com a nossa variável alvo'''\n",
    "\n",
    "clean_data_num_train = clean_data.copy().select_dtypes(include = ['int64','float64'])\n",
    "saleprice_corr = clean_data_num_train.corr()['SalePrice'].abs().sort_values(ascending = False)\n",
    "saleprice_corr"
   ]
  },
  {
   "cell_type": "code",
   "execution_count": 16,
   "metadata": {},
   "outputs": [],
   "source": [
    "#Excluindo variáveis com uma correlação menor do que 0.3. O valor de 0.3 foi escolhido arbitrariamente\n",
    "weak_correlation = saleprice_corr[saleprice_corr < 0.3].index\n",
    "clean_data.drop(columns = weak_correlation, inplace = True)"
   ]
  },
  {
   "cell_type": "code",
   "execution_count": 17,
   "metadata": {},
   "outputs": [
    {
     "data": {
      "text/plain": [
       "<AxesSubplot:>"
      ]
     },
     "execution_count": 17,
     "metadata": {},
     "output_type": "execute_result"
    },
    {
     "data": {
      "image/png": "[encoded data removed]",
      "text/plain": [
       "<Figure size 432x288 with 2 Axes>"
      ]
     },
     "metadata": {
      "needs_background": "light"
     },
     "output_type": "display_data"
    }
   ],
   "source": [
    "#Analisando a correlação entre as features com o objetivo de identificar features com uma grande correlação entre elas.\n",
    "#Ao utilizarmos 2 features muito parecidas, acabamos contando 2x a mesma característica.\n",
    "strong_saleprice_corr = saleprice_corr[saleprice_corr > 0.3].index\n",
    "sns.heatmap(clean_data_num_train[strong_saleprice_corr].corr().abs())"
   ]
  },
  {
   "cell_type": "code",
   "execution_count": 18,
   "metadata": {},
   "outputs": [],
   "source": [
    "#Vemos que as 3 features tem uma correçação forte com outras variáveis e por isso vamos excluí-las para não contar o mesmo efeito 2x\n",
    "clean_data.drop(columns = ['Garage Area','TotRms AbvGrd','1st Flr SF'], inplace = True)"
   ]
  },
  {
   "cell_type": "markdown",
   "metadata": {},
   "source": [
    "**5.1.2. \"Dummy coding\" das colunas textuais**"
   ]
  },
  {
   "cell_type": "code",
   "execution_count": 27,
   "metadata": {},
   "outputs": [],
   "source": [
    "## De acordo com a documentação do dataset, as seguinte colunas são categóricas\n",
    "## As informações sobre as colunas podem ser encontradas nesse link https://s3.amazonaws.com/dq-content/307/data_description.txt\n",
    "nominal_features = [\"PID\", \"MS SubClass\", \"MS Zoning\", \"Street\", \"Alley\", \"Land Contour\", \"Lot Config\", \"Neighborhood\", \n",
    "                    \"Condition 1\", \"Condition 2\", \"Bldg Type\", \"House Style\", \"Roof Style\", \"Roof Matl\", \"Exterior 1st\", \n",
    "                    \"Exterior 2nd\", \"Mas Vnr Type\", \"Foundation\", \"Heating\", \"Central Air\", \"Garage Type\", \n",
    "                    \"Misc Feature\", \"Sale Type\", \"Sale Condition\"]\n",
    "\n",
    "#Como já limpamos muitas colunas, vamos ver quantas delas ainda estão no dataset após o data cleaning\n",
    "transform_cat_cols = []\n",
    "for col in nominal_features:\n",
    "    if col in clean_data.columns:\n",
    "        transform_cat_cols.append(col)\n",
    "\n",
    "'''Para as colunas categóricas, vamos usar dummy coding\n",
    "   Com o dummy coding, cada valor único das colunas categóricas serão transformados em uma nova coluna\n",
    "   Sendo assim, vamos excluir as categorias com uma quantidade excessiva de valores únicos\n",
    "   Do contrátio nosso dataset ficaria com colunas em excesso devido ao dummy coding'''\n",
    "contagem_unicidade  = clean_data[transform_cat_cols].apply(lambda col: len(col.value_counts()), axis =0)\n",
    "clean_data.drop(columns = contagem_unicidade[contagem_unicidade > 10].index, inplace = True)"
   ]
  },
  {
   "cell_type": "code",
   "execution_count": 20,
   "metadata": {},
   "outputs": [],
   "source": [
    "#Tranformando as colunas de texto em colunas categóricas e aplicando 'dummy coding' (cada categoria vira uma coluna)\n",
    "\n",
    "text_cols = clean_data.select_dtypes(include = 'object').columns\n",
    "\n",
    "for col in text_cols:\n",
    "    clean_data[col] = clean_data[col].astype('category')\n",
    "\n",
    "dummies = pd.get_dummies(clean_data.select_dtypes(include = 'category'))\n",
    "\n",
    "clean_data = pd.concat([clean_data,dummies], axis = 1)\n",
    "\n",
    "\n",
    "clean_data.drop(columns = text_cols, inplace = True)\n",
    "\n"
   ]
  },
  {
   "cell_type": "markdown",
   "metadata": {},
   "source": [
    "**5.2. Atualizando a função 'select features' com as modificações explicas no item acima**"
   ]
  },
  {
   "cell_type": "code",
   "execution_count": 21,
   "metadata": {},
   "outputs": [],
   "source": [
    "def select_features(df,corr_threshold = 0.3,n_categories_threshold = 10):\n",
    "    \n",
    "    ##Colunas numéricas\n",
    "    #Calculando a correlação entre as colunas numéricas e a coluna alvo 'SalePrice'\n",
    "    df_num = df.copy().select_dtypes(include = ['int64','float64'])\n",
    "    saleprice_corr = df_num.corr()['SalePrice'].abs().sort_values(ascending = False)\n",
    "    \n",
    "    #Escluindo as colunas que possuem uma correlação inferior ao limite definido\n",
    "    weak_correlation = saleprice_corr[saleprice_corr < corr_threshold].index\n",
    "    df.drop(columns = weak_correlation, inplace = True)\n",
    "    \n",
    "    #Excluindo as colunas que possuem uma grande correlação entre sí\n",
    "    df.drop(columns = ['Garage Cars','TotRms AbvGrd','1st Flr SF'], inplace = True)\n",
    "    \n",
    "    \n",
    "    ##Colunas de texto\n",
    "    ## Verificando quais colunas categóricas existem no nosso dataset\n",
    "    nominal_features = [\"PID\", \"MS SubClass\", \"MS Zoning\", \"Street\", \"Alley\", \"Land Contour\", \"Lot Config\", \"Neighborhood\", \n",
    "                    \"Condition 1\", \"Condition 2\", \"Bldg Type\", \"House Style\", \"Roof Style\", \"Roof Matl\", \"Exterior 1st\", \n",
    "                    \"Exterior 2nd\", \"Mas Vnr Type\", \"Foundation\", \"Heating\", \"Central Air\", \"Garage Type\", \n",
    "                    \"Misc Feature\", \"Sale Type\", \"Sale Condition\"]\n",
    "\n",
    "    transform_cat_cols = []\n",
    "    for col in nominal_features:\n",
    "        if col in df.columns:\n",
    "            transform_cat_cols.append(col)\n",
    "\n",
    "    #Excluindo as colunas de texto com mais valores únicos do que o limite definido\n",
    "    uniqueness_counts  = df[transform_cat_cols].apply(lambda col: len(col.value_counts()), axis =0)\n",
    "    df.drop(columns = uniqueness_counts[uniqueness_counts > n_categories_threshold].index, inplace = True)\n",
    "    \n",
    "    #Transformando as colunas textuais em colunas categóricas e transofmrando-as com 'dummy coding'\n",
    "    text_cols = df.select_dtypes(include = 'object').columns\n",
    "\n",
    "    for col in text_cols:\n",
    "        df[col] = df[col].astype('category')\n",
    "\n",
    "    dummies = pd.get_dummies(df.select_dtypes(include = 'category'))\n",
    "\n",
    "    df = pd.concat([df,dummies], axis = 1)\n",
    "\n",
    "    features = df.drop(columns = text_cols)\n",
    "\n",
    "    return features"
   ]
  },
  {
   "cell_type": "code",
   "execution_count": 22,
   "metadata": {},
   "outputs": [
    {
     "data": {
      "text/plain": [
       "27373.66242040524"
      ]
     },
     "execution_count": 22,
     "metadata": {},
     "output_type": "execute_result"
    }
   ],
   "source": [
    "data = pd.read_csv(\"AmesHousing.tsv\", sep = '\\t')\n",
    "clean_data = data_cleaning(data)\n",
    "selected_data = select_features(clean_data)\n",
    "rmse = train_and_test(selected_data)\n",
    "rmse"
   ]
  },
  {
   "cell_type": "markdown",
   "metadata": {},
   "source": [
    "## 6. Atualizando a função 'train_and_test' para utilizar cross fold validation:"
   ]
  },
  {
   "cell_type": "code",
   "execution_count": 23,
   "metadata": {},
   "outputs": [],
   "source": [
    "def train_and_test(dataset, n_folds = 5):\n",
    "        \n",
    "    kf = KFold(n_splits = n_folds) #Sem shuffle pois o dataset já é randomizado na etapa de data cleaning\n",
    "    \n",
    "    features = dataset.drop(columns = \"SalePrice\")\n",
    "    target = dataset[['SalePrice']]\n",
    "    \n",
    "    model = LinearRegression()\n",
    "    \n",
    "    mses = cross_val_score(model, features, target, scoring = 'neg_mean_squared_error', cv = kf)\n",
    "    \n",
    "    rmses = np.sqrt(np.absolute(mses))\n",
    "    \n",
    "    avg_rmse = np.mean(rmses)\n",
    "    return avg_rmse"
   ]
  },
  {
   "cell_type": "code",
   "execution_count": 24,
   "metadata": {},
   "outputs": [
    {
     "data": {
      "text/plain": [
       "29019.948092774"
      ]
     },
     "execution_count": 24,
     "metadata": {},
     "output_type": "execute_result"
    }
   ],
   "source": [
    "data = pd.read_csv(\"AmesHousing.tsv\", sep = '\\t')\n",
    "clean_data = data_cleaning(data)\n",
    "selected_data = select_features(df = clean_data,corr_threshold = 0.3,n_categories_threshold = 10)\n",
    "model_rmse = train_and_test(selected_data)\n",
    "model_rmse"
   ]
  },
  {
   "cell_type": "code",
   "execution_count": 26,
   "metadata": {},
   "outputs": [
    {
     "data": {
      "text/plain": [
       "Text(0.5, 0, 'Valor')"
      ]
     },
     "execution_count": 26,
     "metadata": {},
     "output_type": "execute_result"
    },
    {
     "data": {
      "image/png": "[encoded data removed]",
      "text/plain": [
       "<Figure size 432x288 with 1 Axes>"
      ]
     },
     "metadata": {
      "needs_background": "light"
     },
     "output_type": "display_data"
    }
   ],
   "source": [
    "n_bins = round((data['SalePrice'].max() - data['SalePrice'].min())/model_rmse)\n",
    "plt.hist(data['SalePrice'], bins = n_bins)\n",
    "plt.title('Distribuição dos preços de imóveis')\n",
    "plt.ylabel(\"Quantidade\")\n",
    "plt.xlabel(\"Valor\")"
   ]
  },
  {
   "cell_type": "markdown",
   "metadata": {},
   "source": [
    "## 7. Considerações Finais\n",
    "O root mean squared error médio do nosso modelo foi de US$ 29.019.95.\n",
    "\n",
    "Se analisarmos o histograma acima, vemos que um erro de 29 mil no valor do imóvel parece ser um valor aceitável."
   ]
  }
 ],
 "metadata": {
  "anaconda-cloud": {},
  "kernelspec": {
   "display_name": "Python 3",
   "language": "python",
   "name": "python3"
  },
  "language_info": {
   "codemirror_mode": {
    "name": "ipython",
    "version": 3
   },
   "file_extension": ".py",
   "mimetype": "text/x-python",
   "name": "python",
   "nbconvert_exporter": "python",
   "pygments_lexer": "ipython3",
   "version": "3.8.3"
  }
 },
 "nbformat": 4,
 "nbformat_minor": 4
}
