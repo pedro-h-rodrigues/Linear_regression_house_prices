{
 "cells": [
  {
   "cell_type": "markdown",
   "metadata": {},
   "source": [
    "## 1. Creating the Main Functions"
   ]
  },
  {
   "cell_type": "code",
   "execution_count": 32,
   "metadata": {},
   "outputs": [],
   "source": [
    "import numpy as np\n",
    "import pandas as pd\n",
    "from sklearn.linear_model import LinearRegression\n",
    "from sklearn.metrics import mean_squared_error\n",
    "import matplotlib.pyplot as plt\n",
    "import seaborn as sns\n",
    "from sklearn.model_selection import KFold, cross_val_score"
   ]
  },
  {
   "cell_type": "code",
   "execution_count": 33,
   "metadata": {
    "collapsed": false,
    "jupyter": {
     "outputs_hidden": false
    }
   },
   "outputs": [],
   "source": [
    "data = pd.read_csv(\"AmesHousing.tsv\", sep = '\\t')\n",
    "\n",
    "#houses.head(10)"
   ]
  },
  {
   "cell_type": "code",
   "execution_count": 3,
   "metadata": {
    "collapsed": false,
    "jupyter": {
     "outputs_hidden": false
    }
   },
   "outputs": [],
   "source": [
    "def transform_features(df):\n",
    "    np.random.seed(1)\n",
    "    random_index = np.random.permutation(df.index)\n",
    "    df = df.reindex(random_index)\n",
    "    \n",
    "    return df"
   ]
  },
  {
   "cell_type": "code",
   "execution_count": 35,
   "metadata": {},
   "outputs": [],
   "source": [
    "def select_features(train_data_set):\n",
    "    feat = train_data_set[['Gr Liv Area','SalePrice']]\n",
    "    return feat"
   ]
  },
  {
   "cell_type": "code",
   "execution_count": 36,
   "metadata": {},
   "outputs": [],
   "source": [
    "def train_and_test(dataset):\n",
    "        \n",
    "    len_dataset = dataset.shape[0]\n",
    "    train_df = dataset[0:1460].copy()\n",
    "    test_df = dataset[1461:len_dataset].copy()\n",
    "       \n",
    "    features = select_features(train_df)\n",
    "    features = features.select_dtypes(include=['integer', 'float'])\n",
    "    features = features.drop(columns = 'SalePrice')\n",
    "    test_features_cols = select_features(test_df)\n",
    "    test_features_cols = test_features_cols.drop(columns = 'SalePrice')\n",
    "    \n",
    "    model = LinearRegression()\n",
    "    model.fit(features,train_df[['SalePrice']])\n",
    "\n",
    "    prediction = model.predict(test_features_cols)\n",
    "    \n",
    "    test_rmse = np.sqrt(mean_squared_error(prediction, test_df[['SalePrice']]))\n",
    "    \n",
    "    return test_rmse\n",
    "    "
   ]
  },
  {
   "cell_type": "code",
   "execution_count": 6,
   "metadata": {},
   "outputs": [
    {
     "data": {
      "text/plain": [
       "55928.5197683182"
      ]
     },
     "execution_count": 6,
     "metadata": {},
     "output_type": "execute_result"
    }
   ],
   "source": [
    "transformed_data = transform_features(data)\n",
    "train_and_test(transformed_data)"
   ]
  },
  {
   "cell_type": "markdown",
   "metadata": {},
   "source": [
    "## 2. Data Cleaning\n",
    "\n",
    "* We will test the cleaning process first on standalone cells, and later we will add them to the transform_features function"
   ]
  },
  {
   "cell_type": "code",
   "execution_count": 7,
   "metadata": {},
   "outputs": [
    {
     "data": {
      "text/plain": [
       "82"
      ]
     },
     "execution_count": 7,
     "metadata": {},
     "output_type": "execute_result"
    }
   ],
   "source": [
    "data.shape[1]"
   ]
  },
  {
   "cell_type": "code",
   "execution_count": 8,
   "metadata": {},
   "outputs": [
    {
     "data": {
      "text/plain": [
       "71"
      ]
     },
     "execution_count": 8,
     "metadata": {},
     "output_type": "execute_result"
    }
   ],
   "source": [
    "#1. Drop any columns with more than 5% of values missing\n",
    "missing_count = data.isnull().sum()\n",
    "missing_cols = missing_count[missing_count>data.shape[0]*0.05].index\n",
    "data.drop(columns = missing_cols, inplace = True)\n",
    "\n",
    "data.shape[1]"
   ]
  },
  {
   "cell_type": "code",
   "execution_count": 9,
   "metadata": {},
   "outputs": [
    {
     "data": {
      "text/plain": [
       "64"
      ]
     },
     "execution_count": 9,
     "metadata": {},
     "output_type": "execute_result"
    }
   ],
   "source": [
    "#2. Drop any text column with more than 1 missing value\n",
    "text_data = data.select_dtypes(include=['object'])\n",
    "text_data_missing = text_data.isnull().sum()\n",
    "missing_cols = text_data_missing[text_data_missing > 0].index\n",
    "data.drop(columns = missing_cols, inplace = True)\n",
    "data.shape[1]"
   ]
  },
  {
   "cell_type": "code",
   "execution_count": 10,
   "metadata": {},
   "outputs": [],
   "source": [
    "#3. Fill in numeric colums with less than 5% missing values ith the most common (mode) value of that column\n",
    "numeric_data = data.select_dtypes(include = ['int64','float64'])\n",
    "numeric_data_missing = numeric_data.isnull().sum()\n",
    "missing_cols = numeric_data_missing[(numeric_data_missing > 0) & (numeric_data_missing < data.shape[0]*0.05)]\n",
    "mode = data[missing_cols.index].mode() #returns a dataframe with the mode for each value\n",
    "mode = mode.to_dict(orient = 'records')[0] #\"records\" argument [{column -> value}, … , {column -> value}]\n",
    "data.fillna(value = mode, inplace = True)"
   ]
  },
  {
   "cell_type": "code",
   "execution_count": 11,
   "metadata": {},
   "outputs": [
    {
     "data": {
      "text/plain": [
       "0    64\n",
       "dtype: int64"
      ]
     },
     "execution_count": 11,
     "metadata": {},
     "output_type": "execute_result"
    }
   ],
   "source": [
    "#Checking if all values are null\n",
    "data.isnull().sum().value_counts()"
   ]
  },
  {
   "cell_type": "code",
   "execution_count": 12,
   "metadata": {},
   "outputs": [],
   "source": [
    "#4. Add more columns\n",
    "data['Years Before Sale'] = data['Yr Sold'] - data['Year Built']\n",
    "data['Years Since Remod'] = data['Yr Sold'] - data['Year Remod/Add']"
   ]
  },
  {
   "cell_type": "code",
   "execution_count": 13,
   "metadata": {},
   "outputs": [],
   "source": [
    "negative_yrs_bef_sale = data['Years Before Sale'][data['Years Before Sale'] <0].index"
   ]
  },
  {
   "cell_type": "code",
   "execution_count": 14,
   "metadata": {},
   "outputs": [],
   "source": [
    "negative_yrs_since_remod = data['Years Since Remod'][data['Years Since Remod'] <0].index"
   ]
  },
  {
   "cell_type": "code",
   "execution_count": 15,
   "metadata": {},
   "outputs": [],
   "source": [
    "data.drop(index = negative_yrs_bef_sale.union(negative_yrs_since_remod),inplace = True) #dropping the ones that result in negative values"
   ]
  },
  {
   "cell_type": "code",
   "execution_count": 16,
   "metadata": {},
   "outputs": [],
   "source": [
    "data.drop(columns = ['Year Built','Year Remod/Add'],inplace = True) #we don't need these anymored"
   ]
  },
  {
   "cell_type": "code",
   "execution_count": 17,
   "metadata": {},
   "outputs": [],
   "source": [
    "#5. Dropping unnecessary columns\n",
    "## Drop columns that aren't useful for ML\n",
    "data.drop(columns = [\"PID\", \"Order\"], inplace = True)\n",
    "\n",
    "## Drop columns that leak info about the final sale\n",
    "data.drop(columns = [\"Mo Sold\", \"Sale Condition\", \"Sale Type\", \"Yr Sold\"], inplace = True)"
   ]
  },
  {
   "cell_type": "markdown",
   "metadata": {},
   "source": [
    "## 3. Updating the transform_features function with the data cleaning"
   ]
  },
  {
   "cell_type": "code",
   "execution_count": 37,
   "metadata": {},
   "outputs": [],
   "source": [
    "def transform_features(data):\n",
    "  \n",
    "    data = data.sample(frac = 1, random_state = 1)\n",
    "    \n",
    "    #data_cleaning:\n",
    "    #1. Drop any columns with more than 5% of values missing\n",
    "    missing_count = data.isnull().sum()\n",
    "    missing_cols = missing_count[missing_count>data.shape[0]*0.05].index\n",
    "    data.drop(columns = missing_cols, inplace = True)\n",
    "    \n",
    "    #2. Drop any text column with more than 1 missing value\n",
    "    text_data = data.select_dtypes(include=['object'])\n",
    "    text_data_missing = text_data.isnull().sum()\n",
    "    missing_cols = text_data_missing[text_data_missing > 0].index\n",
    "    data.drop(columns = missing_cols, inplace = True)\n",
    "    \n",
    "    #3. Fill in numeric colums with less than 5% missing values ith the most common (mode) value of that column\n",
    "    numeric_data = data.select_dtypes(include = ['int64','float64'])\n",
    "    numeric_data_missing = numeric_data.isnull().sum()\n",
    "    #missing_cols = numeric_data_missing[(numeric_data_missing > 0) & (numeric_data_missing < data.shape[0]*0.05)]\n",
    "    missing_cols = numeric_data_missing[(numeric_data_missing > 0)]\n",
    "    mode = data[missing_cols.index].mode() #retunrs a dataframe with the mode for each value\n",
    "    mode = mode.to_dict(orient = 'records')[0] #\"records\" argument [{column -> value}, … , {column -> value}]\n",
    "    data.fillna(value = mode, inplace = True)\n",
    "    \n",
    "    #4. Add more columns\n",
    "    data['Years Before Sale'] = data['Yr Sold'] - data['Year Built']\n",
    "    data['Years Since Remod'] = data['Yr Sold'] - data['Year Remod/Add']\n",
    "    \n",
    "    negative_yrs_bef_sale = data['Years Before Sale'][data['Years Before Sale'] <0].index\n",
    "    negative_yrs_since_remod = data['Years Since Remod'][data['Years Since Remod'] <0].index\n",
    "    \n",
    "    data.drop(index = negative_yrs_bef_sale.union(negative_yrs_since_remod),inplace = True) #dropping the ones that result in negative values\n",
    "    data.drop(columns = ['Year Built','Year Remod/Add'],inplace = True) #we don't need these anymored\n",
    "    \n",
    "    #5. Droping unnecessary columns\n",
    "    ## Drop columns that aren't useful for ML\n",
    "    data.drop(columns = [\"PID\", \"Order\"], inplace = True)\n",
    "\n",
    "    ## Drop columns that leak info about the final sale\n",
    "    data.drop(columns = [\"Mo Sold\", \"Sale Condition\", \"Sale Type\", \"Yr Sold\"], inplace = True)\n",
    "        \n",
    "    return data"
   ]
  },
  {
   "cell_type": "code",
   "execution_count": 38,
   "metadata": {},
   "outputs": [
    {
     "data": {
      "text/plain": [
       "54979.96874691935"
      ]
     },
     "execution_count": 38,
     "metadata": {},
     "output_type": "execute_result"
    }
   ],
   "source": [
    "data = pd.read_csv(\"AmesHousing.tsv\", sep = '\\t')\n",
    "transformed_data = transform_features(data)\n",
    "train_and_test(transformed_data)"
   ]
  },
  {
   "cell_type": "code",
   "execution_count": 20,
   "metadata": {},
   "outputs": [
    {
     "data": {
      "text/plain": [
       "54979.96874691935"
      ]
     },
     "execution_count": 20,
     "metadata": {},
     "output_type": "execute_result"
    }
   ],
   "source": [
    "54979.96874691935"
   ]
  },
  {
   "cell_type": "markdown",
   "metadata": {},
   "source": [
    "## 4. Feature Selection"
   ]
  },
  {
   "cell_type": "markdown",
   "metadata": {},
   "source": [
    "* Numerical Features\n",
    "* We will first analyse the features on standalone cells, and then incorporate the transformation and selections into the select features function"
   ]
  },
  {
   "cell_type": "code",
   "execution_count": 21,
   "metadata": {},
   "outputs": [
    {
     "data": {
      "text/plain": [
       "SalePrice            1.000000\n",
       "Overall Qual         0.801206\n",
       "Gr Liv Area          0.717596\n",
       "Garage Cars          0.648361\n",
       "Total Bsmt SF        0.644012\n",
       "Garage Area          0.641425\n",
       "1st Flr SF           0.635185\n",
       "Years Before Sale    0.558979\n",
       "Full Bath            0.546118\n",
       "Years Since Remod    0.534985\n",
       "Mas Vnr Area         0.506983\n",
       "TotRms AbvGrd        0.498574\n",
       "Fireplaces           0.474831\n",
       "BsmtFin SF 1         0.439284\n",
       "Wood Deck SF         0.328183\n",
       "Open Porch SF        0.316262\n",
       "Half Bath            0.284871\n",
       "Bsmt Full Bath       0.276258\n",
       "2nd Flr SF           0.269601\n",
       "Lot Area             0.267520\n",
       "Bsmt Unf SF          0.182751\n",
       "Bedroom AbvGr        0.143916\n",
       "Enclosed Porch       0.128685\n",
       "Kitchen AbvGr        0.119760\n",
       "Screen Porch         0.112280\n",
       "Overall Cond         0.101540\n",
       "MS SubClass          0.085128\n",
       "Pool Area            0.068438\n",
       "Low Qual Fin SF      0.037629\n",
       "Bsmt Half Bath       0.035875\n",
       "3Ssn Porch           0.032268\n",
       "Misc Val             0.019273\n",
       "BsmtFin SF 2         0.006127\n",
       "Name: SalePrice, dtype: float64"
      ]
     },
     "execution_count": 21,
     "metadata": {},
     "output_type": "execute_result"
    }
   ],
   "source": [
    "#Calculating the correlation of the numeric features with the SalePrice column\n",
    "transformed_data_num_train = transformed_data.copy().select_dtypes(include = ['int64','float64'])\n",
    "saleprice_corr = transformed_data_num_train.corr()['SalePrice'].abs().sort_values(ascending = False)\n",
    "saleprice_corr"
   ]
  },
  {
   "cell_type": "code",
   "execution_count": 22,
   "metadata": {},
   "outputs": [],
   "source": [
    "#Dropping columns with a corr bellow than 0.3\n",
    "weak_correlation = saleprice_corr[saleprice_corr < 0.3].index\n",
    "transformed_data.drop(columns = weak_correlation, inplace = True)"
   ]
  },
  {
   "cell_type": "code",
   "execution_count": 23,
   "metadata": {},
   "outputs": [
    {
     "data": {
      "text/plain": [
       "<matplotlib.axes._subplots.AxesSubplot at 0x1ebd1b77790>"
      ]
     },
     "execution_count": 23,
     "metadata": {},
     "output_type": "execute_result"
    },
    {
     "data": {
      "image/png": "[encoded data removed]",
      "text/plain": [
       "<Figure size 432x288 with 2 Axes>"
      ]
     },
     "metadata": {
      "needs_background": "light"
     },
     "output_type": "display_data"
    }
   ],
   "source": [
    "#Looking for other variables that have a strong correlation between them and therefore should be dropped\n",
    "strong_saleprice_corr = saleprice_corr[saleprice_corr > 0.3].index\n",
    "sns.heatmap(transformed_data_num_train[strong_saleprice_corr].corr().abs())"
   ]
  },
  {
   "cell_type": "code",
   "execution_count": 24,
   "metadata": {},
   "outputs": [],
   "source": [
    "#Dropping columns with a strong correlation with another column\n",
    "transformed_data.drop(columns = ['Garage Cars','TotRms AbvGrd','1st Flr SF'], inplace = True)"
   ]
  },
  {
   "cell_type": "markdown",
   "metadata": {},
   "source": [
    "* Analyzing categorical features"
   ]
  },
  {
   "cell_type": "code",
   "execution_count": 25,
   "metadata": {},
   "outputs": [],
   "source": [
    "#Dropping category columns with too many distinct values\n",
    "\n",
    "## Create a list of column names from documentation that are *meant* to be categorical\n",
    "nominal_features = [\"PID\", \"MS SubClass\", \"MS Zoning\", \"Street\", \"Alley\", \"Land Contour\", \"Lot Config\", \"Neighborhood\", \n",
    "                    \"Condition 1\", \"Condition 2\", \"Bldg Type\", \"House Style\", \"Roof Style\", \"Roof Matl\", \"Exterior 1st\", \n",
    "                    \"Exterior 2nd\", \"Mas Vnr Type\", \"Foundation\", \"Heating\", \"Central Air\", \"Garage Type\", \n",
    "                    \"Misc Feature\", \"Sale Type\", \"Sale Condition\"]\n",
    "\n",
    "#Checking which of those columns are still in our transformed dataset\n",
    "transform_cat_cols = []\n",
    "for col in nominal_features:\n",
    "    if col in transformed_data.columns:\n",
    "        transform_cat_cols.append(col)\n",
    "\n",
    "#Couting the unique values in those columns and dropping columns with too many (>10) unique values\n",
    "uniqueness_counts  = transformed_data[transform_cat_cols].apply(lambda col: len(col.value_counts()), axis =0)\n",
    "transformed_data.drop(columns = uniqueness_counts[uniqueness_counts > 10].index, inplace = True)"
   ]
  },
  {
   "cell_type": "code",
   "execution_count": 26,
   "metadata": {},
   "outputs": [],
   "source": [
    "# Transforming remaing text columns into category columns and then dummy coding them\n",
    "text_cols = transformed_data.select_dtypes(include = 'object').columns\n",
    "\n",
    "for col in text_cols:\n",
    "    transformed_data[col] = transformed_data[col].astype('category')\n",
    "\n",
    "dummies = pd.get_dummies(transformed_data.select_dtypes(include = 'category'))\n",
    "\n",
    "transformed_data = pd.concat([transformed_data,dummies], axis = 1)\n",
    "\n",
    "\n",
    "transformed_data.drop(columns = text_cols, inplace = True)\n",
    "\n"
   ]
  },
  {
   "cell_type": "markdown",
   "metadata": {},
   "source": [
    "## 5. Updating Select Features with the modifications done above"
   ]
  },
  {
   "cell_type": "code",
   "execution_count": 27,
   "metadata": {},
   "outputs": [],
   "source": [
    "def select_features(train_data_set,corr_threshold = 0.3,n_categories_threshold = 10):\n",
    "    \n",
    "    ##NUMERIC COLUMNS\n",
    "    #Calculating the correlation of the numeric features with the SalePrice column\n",
    "    train_data_set_num = train_data_set.copy().select_dtypes(include = ['int64','float64'])\n",
    "    saleprice_corr = train_data_set_num.corr()['SalePrice'].abs().sort_values(ascending = False)\n",
    "    \n",
    "    #Dropping columns with a corr bellow than 0.3\n",
    "    weak_correlation = saleprice_corr[saleprice_corr < corr_threshold].index\n",
    "    train_data_set.drop(columns = weak_correlation, inplace = True)\n",
    "    \n",
    "    #Dropping columns with a strong correlation with another column\n",
    "    train_data_set.drop(columns = ['Garage Cars','TotRms AbvGrd','1st Flr SF'], inplace = True)\n",
    "    \n",
    "    \n",
    "    ##TEXT COLUMNS\n",
    "    #Dropping category columns with too many distinct values\n",
    "    ## Create a list of column names from documentation that are *meant* to be categorical\n",
    "    nominal_features = [\"PID\", \"MS SubClass\", \"MS Zoning\", \"Street\", \"Alley\", \"Land Contour\", \"Lot Config\", \"Neighborhood\", \n",
    "                    \"Condition 1\", \"Condition 2\", \"Bldg Type\", \"House Style\", \"Roof Style\", \"Roof Matl\", \"Exterior 1st\", \n",
    "                    \"Exterior 2nd\", \"Mas Vnr Type\", \"Foundation\", \"Heating\", \"Central Air\", \"Garage Type\", \n",
    "                    \"Misc Feature\", \"Sale Type\", \"Sale Condition\"]\n",
    "\n",
    "    #Checking which of those columns are still in our transformed dataset\n",
    "    transform_cat_cols = []\n",
    "    for col in nominal_features:\n",
    "        if col in train_data_set.columns:\n",
    "            transform_cat_cols.append(col)\n",
    "\n",
    "    #Couting the unique values in those columns and dropping columns with too many (>10) unique values\n",
    "    uniqueness_counts  = train_data_set[transform_cat_cols].apply(lambda col: len(col.value_counts()), axis =0)\n",
    "    train_data_set.drop(columns = uniqueness_counts[uniqueness_counts > n_categories_threshold].index, inplace = True)\n",
    "    \n",
    "    #Transforming remaing text columns into category columns and then dummy coding them\n",
    "    text_cols = train_data_set.select_dtypes(include = 'object').columns\n",
    "\n",
    "    for col in text_cols:\n",
    "        train_data_set[col] = train_data_set[col].astype('category')\n",
    "\n",
    "    dummies = pd.get_dummies(train_data_set.select_dtypes(include = 'category'))\n",
    "\n",
    "    train_data_set = pd.concat([train_data_set,dummies], axis = 1)\n",
    "\n",
    "    features = train_data_set.drop(columns = text_cols)\n",
    "\n",
    "    return features"
   ]
  },
  {
   "cell_type": "markdown",
   "metadata": {},
   "source": [
    "* Updating train and test to take into the considerantion the changes done in select features"
   ]
  },
  {
   "cell_type": "code",
   "execution_count": 28,
   "metadata": {},
   "outputs": [],
   "source": [
    "def train_and_test(dataset):\n",
    "    \n",
    "    dataset = select_features(dataset)\n",
    "    \n",
    "    len_dataset = dataset.shape[0]\n",
    "    train_df = dataset[:1460].copy()\n",
    "    test_df = dataset[1460:].copy()\n",
    "       \n",
    "    train_features = train_df.drop(columns = \"SalePrice\")\n",
    "    test_features = test_df.drop(columns = \"SalePrice\")\n",
    "    \n",
    "    model = LinearRegression()\n",
    "    model.fit(train_features,train_df[['SalePrice']])\n",
    "\n",
    "    prediction = model.predict(test_features)\n",
    "    \n",
    "    test_rmse = np.sqrt(mean_squared_error(prediction, test_df[['SalePrice']]))\n",
    "    \n",
    "    return round(test_rmse,2)"
   ]
  },
  {
   "cell_type": "code",
   "execution_count": 29,
   "metadata": {},
   "outputs": [
    {
     "data": {
      "text/plain": [
       "27353.95"
      ]
     },
     "execution_count": 29,
     "metadata": {},
     "output_type": "execute_result"
    }
   ],
   "source": [
    "data = pd.read_csv(\"AmesHousing.tsv\", sep = '\\t')\n",
    "transformed_data = transform_features(data)\n",
    "train_and_test(transformed_data)"
   ]
  },
  {
   "cell_type": "markdown",
   "metadata": {},
   "source": [
    "## 6. Updating the train_and_test to use k-fold cross validation"
   ]
  },
  {
   "cell_type": "code",
   "execution_count": 30,
   "metadata": {},
   "outputs": [],
   "source": [
    "def train_and_test(dataset):\n",
    "    \n",
    "    dataset = select_features(dataset)\n",
    "    \n",
    "    kf = KFold() #it is using the defalut 5 folds and no shuffle (the dataset has already been shuffled once)\n",
    "    \n",
    "    features = dataset.drop(columns = \"SalePrice\")\n",
    "    target = dataset[['SalePrice']]\n",
    "    \n",
    "    model = LinearRegression()\n",
    "    \n",
    "    mses = cross_val_score(model, features, target, scoring = 'neg_mean_squared_error')\n",
    "    \n",
    "    rmses = np.sqrt(np.absolute(mses))\n",
    "    \n",
    "    avg_rmse = np.mean(rmses)\n",
    "    return avg_rmse"
   ]
  },
  {
   "cell_type": "code",
   "execution_count": 31,
   "metadata": {},
   "outputs": [
    {
     "data": {
      "text/plain": [
       "29022.357586053702"
      ]
     },
     "execution_count": 31,
     "metadata": {},
     "output_type": "execute_result"
    }
   ],
   "source": [
    "data = pd.read_csv(\"AmesHousing.tsv\", sep = '\\t')\n",
    "transformed_data = transform_features(data)\n",
    "train_and_test(transformed_data)"
   ]
  }
 ],
 "metadata": {
  "anaconda-cloud": {},
  "kernelspec": {
   "display_name": "Python 3",
   "language": "python",
   "name": "python3"
  },
  "language_info": {
   "codemirror_mode": {
    "name": "ipython",
    "version": 3
   },
   "file_extension": ".py",
   "mimetype": "text/x-python",
   "name": "python",
   "nbconvert_exporter": "python",
   "pygments_lexer": "ipython3",
   "version": "3.8.3"
  }
 },
 "nbformat": 4,
 "nbformat_minor": 4
}
